{
 "cells": [
  {
   "cell_type": "markdown",
   "metadata": {},
   "source": [
    "#KONSTRUKSI IF THEN"
   ]
  },
  {
   "cell_type": "code",
   "execution_count": 4,
   "metadata": {},
   "outputs": [
    {
     "name": "stdout",
     "output_type": "stream",
     "text": [
      "3 adalah bilangan GANJIL\n"
     ]
    }
   ],
   "source": [
    "angka = int(input(\"Masukkan angka\"))\n",
    "\n",
    "if angka % 2== 0:\n",
    "    print(f\"{angka} adalah bilangan GENAP\")\n",
    "\n",
    "else :\n",
    "    print(f\"{angka} adalah bilangan GANJIL\")"
   ]
  },
  {
   "cell_type": "code",
   "execution_count": 18,
   "metadata": {},
   "outputs": [
    {
     "name": "stdout",
     "output_type": "stream",
     "text": [
      "80 adalah tahun kabisat\n"
     ]
    }
   ],
   "source": [
    "tahun = int(input(\"Masukkan tahun\"))\n",
    "\n",
    "if (tahun % 4 == 0 and tahun % 100 !=0) or (tahun % 400 ==0):\n",
    "    print(f\"{tahun} adalah tahun kabisat\")\n",
    "\n",
    "else:\n",
    "    print(f\"{tahun} bukan tahun kabisat\")\n"
   ]
  },
  {
   "cell_type": "code",
   "execution_count": 24,
   "metadata": {},
   "outputs": [
    {
     "name": "stdout",
     "output_type": "stream",
     "text": [
      "1000 * 20000 = 20000000\n"
     ]
    }
   ],
   "source": [
    "bil1 = int(input(\"Masukkan angka ke 1\"))\n",
    "bil2 = int(input(\"Masukkan angka ke 2\"))\n",
    "operator = input(\"masukkan operasi yang diinginkan (+, -, *, /)\")\n",
    "\n",
    "if operator == \"+\":\n",
    "    hasil = bil1 + bil2\n",
    "    print(f\"{bil1} + {bil2} = {hasil}\")\n",
    "elif operator == \"-\":\n",
    "    hasil = bil1 - bil2\n",
    "    print(f\"{bil1} - {bil2} = {hasil}\")\n",
    "elif operator == \"*\":\n",
    "    hasil = bil1 * bil2\n",
    "    print(f\"{bil1} * {bil2} = {hasil}\")\n",
    "elif operator == \"/\":\n",
    "    hasil = bil1 / bil2\n",
    "    print(f\"{bil1} / {bil2} = {hasil}\")\n",
    "else:\n",
    "    print(\"operator tidak tersedia\")"
   ]
  }
 ],
 "metadata": {
  "kernelspec": {
   "display_name": "Python 3",
   "language": "python",
   "name": "python3"
  },
  "language_info": {
   "codemirror_mode": {
    "name": "ipython",
    "version": 3
   },
   "file_extension": ".py",
   "mimetype": "text/x-python",
   "name": "python",
   "nbconvert_exporter": "python",
   "pygments_lexer": "ipython3",
   "version": "3.12.2"
  }
 },
 "nbformat": 4,
 "nbformat_minor": 2
}
