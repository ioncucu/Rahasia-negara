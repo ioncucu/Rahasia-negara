{
 "cells": [
  {
   "cell_type": "code",
   "execution_count": 4,
   "metadata": {},
   "outputs": [
    {
     "name": "stdout",
     "output_type": "stream",
     "text": [
      " luas persegi panjang :  4500\n",
      " keliling persegi panjang :  490\n"
     ]
    }
   ],
   "source": [
    "panjang = int(input(\"masukkan panjang : \")) \n",
    "lebar = int(input(\" masukkan lebar : \")) \n",
    "luas = panjang * lebar\n",
    "keliling = 2 * (panjang+lebar) \n",
    "print (\" luas persegi panjang : \", luas) \n",
    "print (\" keliling persegi panjang : \", keliling)"
   ]
  },
  {
   "cell_type": "markdown",
   "metadata": {},
   "source": [
    "1. Mengambil input dari pengguna berupa panjang dan lebar persegi panjang menggunakan fungsi input() dan mengubahnya menjadi bilangan bulat menggunakan int(), lalu menyimpannya dalam variabel panjang dan lebar masing-masing.\n",
    "2. Menghitung luas persegi panjang dengan mengalikan panjang dengan lebar (panjang * lebar) dan menyimpan hasilnya dalam variabel luas.\n",
    "3. Menghitung keliling persegi panjang dengan rumus 2 * (panjang + lebar) dan menyimpan hasilnya dalam variabel keliling.\n",
    "4. Mencetak hasil perhitungan luas dan keliling persegi panjang menggunakan fungsi print().\n",
    "\n",
    "Dengan cara ini, kode tersebut mengizinkan pengguna untuk memasukkan nilai panjang dan lebar persegi panjang, lalu menghitung luas dan kelilingnya."
   ]
  },
  {
   "cell_type": "code",
   "execution_count": 6,
   "metadata": {},
   "outputs": [
    {
     "name": "stdout",
     "output_type": "stream",
     "text": [
      " luas persegi :  400\n",
      " keliling persegi :  80\n"
     ]
    }
   ],
   "source": [
    "panjang = int(input(\"masukkan panjang sisi : \")) \n",
    "luas = panjang * panjang\n",
    "keliling = panjang * 4\n",
    "print (\" luas persegi : \", luas) \n",
    "print (\" keliling persegi : \", keliling) \n"
   ]
  },
  {
   "cell_type": "markdown",
   "metadata": {},
   "source": [
    "1. Mengambil input dari pengguna berupa panjang sisi persegi menggunakan fungsi input() dan menyimpannya dalam variabel panjang.\n",
    "2. Menghitung luas persegi dengan mengalikan panjang sisi dengan dirinya sendiri (panjang * panjang) dan menyimpan hasilnya dalam variabel luas.\n",
    "3. Menghitung keliling persegi dengan mengalikan panjang sisi dengan 4 (panjang * 4) dan menyimpan hasilnya dalam variabel keliling.\n",
    "4. Mencetak hasil perhitungan luas dan keliling persegi menggunakan fungsi print().\n",
    "\n",
    "Ini adalah contoh sederhana penggunaan input, operasi matematika, dan output dalam Python untuk menghitung luas dan keliling persegi."
   ]
  }
 ],
 "metadata": {
  "kernelspec": {
   "display_name": "Python 3",
   "language": "python",
   "name": "python3"
  },
  "language_info": {
   "codemirror_mode": {
    "name": "ipython",
    "version": 3
   },
   "file_extension": ".py",
   "mimetype": "text/x-python",
   "name": "python",
   "nbconvert_exporter": "python",
   "pygments_lexer": "ipython3",
   "version": "3.12.2"
  }
 },
 "nbformat": 4,
 "nbformat_minor": 2
}
